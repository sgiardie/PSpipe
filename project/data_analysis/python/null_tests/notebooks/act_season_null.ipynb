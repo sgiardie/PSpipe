{
 "cells": [
  {
   "cell_type": "markdown",
   "id": "e755a9df",
   "metadata": {},
   "source": [
    "# Seasonal null tests"
   ]
  },
  {
   "cell_type": "markdown",
   "id": "3ef2f899",
   "metadata": {},
   "source": [
    "We use the data_analysis pipeline to compute covariance matrices and power spectra from ACT Season 17 to ACT Season 19. We want to check if the power spectra estimated from different seasons are consistent.\n",
    "\n",
    "Let $D_\\ell^{XY, d_i\\times d_j, S_A}$ be the $XY$ power spectrum ($(X,Y)\\in\\{T,E\\}^2$) for the combinations of 2 arrays $d_i$, $d_j$ from season $S_A$ and $D_\\ell^{XY, d_i\\times d_j, S_B}$ the $XY$ power spectrum from season $S_B$.\n",
    "\n",
    "We compute the covariance of the residual power spectrum using \n",
    "$$\n",
    "\\mathrm{cov}(D_\\ell^{XY, d_i\\times d_j, S_A} - D_\\ell^{XY, d_i\\times d_j, S_B}) = \\mathrm{cov}(D_\\ell^{XY, d_i\\times d_j, S_A}) + \\mathrm{cov}(D_\\ell^{XY, d_i\\times d_j, S_B}) - 2\\mathrm{cov}(D_\\ell^{XY, d_i\\times d_j, S_A}, D_\\ell^{XY, d_i\\times d_j, S_B})\n",
    "$$"
   ]
  },
  {
   "cell_type": "code",
   "execution_count": 7,
   "id": "e4fbf3b2",
   "metadata": {},
   "outputs": [
    {
     "data": {
      "application/vnd.jupyter.widget-view+json": {
       "model_id": "45f35688d2464b8690987535cf61b2f5",
       "version_major": 2,
       "version_minor": 0
      },
      "text/plain": [
       "VBox(children=(HBox(children=(RadioButtons(description='Show', options=('spectra', 'residuals'), value='spectr…"
      ]
     },
     "metadata": {},
     "output_type": "display_data"
    }
   ],
   "source": [
    "%run season_null_tools.ipynb\n",
    "widgets.VBox([header, fig])"
   ]
  },
  {
   "cell_type": "code",
   "execution_count": null,
   "id": "c50f86eb",
   "metadata": {},
   "outputs": [],
   "source": []
  }
 ],
 "metadata": {
  "kernelspec": {
   "display_name": "Python 3",
   "language": "python",
   "name": "python3"
  },
  "language_info": {
   "codemirror_mode": {
    "name": "ipython",
    "version": 3
   },
   "file_extension": ".py",
   "mimetype": "text/x-python",
   "name": "python",
   "nbconvert_exporter": "python",
   "pygments_lexer": "ipython3",
   "version": "3.8.5"
  }
 },
 "nbformat": 4,
 "nbformat_minor": 5
}
