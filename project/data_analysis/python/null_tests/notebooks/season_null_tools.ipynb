{
 "cells": [
  {
   "cell_type": "markdown",
   "metadata": {
    "slideshow": {
     "slide_type": "slide"
    }
   },
   "source": [
    "# Seasonal consistency checks"
   ]
  },
  {
   "cell_type": "code",
   "execution_count": 1,
   "metadata": {
    "jupyter": {
     "source_hidden": true
    },
    "slideshow": {
     "slide_type": "skip"
    }
   },
   "outputs": [],
   "source": [
    "import os\n",
    "import numpy as np\n",
    "import matplotlib.pyplot as plt\n",
    "import pickle\n",
    "from itertools import combinations\n",
    "from itertools import combinations_with_replacement as cwr\n",
    "import ipywidgets as widgets"
   ]
  },
  {
   "cell_type": "code",
   "execution_count": 2,
   "metadata": {},
   "outputs": [],
   "source": [
    "data_dir = \"../outputs/data/\"\n",
    "seasons = [\"s17\", \"s18\", \"s19\"]\n",
    "arrays = [\"pa4_f150\", \"pa4_f220\", \"pa5_f090\", \"pa5_f150\", \"pa6_f090\", \"pa6_f150\"]\n",
    "cross_arrays = [\"%sx%s\" % (m[0], m[1]) for m in cwr(arrays, 2)]\n",
    "spectra = [\"TT\", \"TE\", \"ET\", \"EE\"]"
   ]
  },
  {
   "cell_type": "code",
   "execution_count": 3,
   "metadata": {
    "jupyter": {
     "source_hidden": true
    }
   },
   "outputs": [],
   "source": [
    "# Spectra/Residual widget button\n",
    "show = widgets.RadioButtons(\n",
    "    description=\"Show\",\n",
    "    value=\"spectra\",\n",
    "    options=[\"spectra\", \"residuals\"])\n",
    "\n",
    "# Residual unit widget button\n",
    "unit_residuals = widgets.RadioButtons(\n",
    "    description=\"Unit\",\n",
    "    value=\"raw\",\n",
    "    options=[\"raw\", \"sigmas\"])\n",
    "\n",
    "# Mode widget\n",
    "spectrum = widgets.Dropdown(\n",
    "    value=\"TT\",\n",
    "    options=spectra)\n",
    "\n",
    "# Cross array widget\n",
    "cross = widgets.Dropdown(\n",
    "    value=cross_arrays[0],\n",
    "    options=cross_arrays)\n",
    "\n",
    "header = widgets.HBox([show, unit_residuals, spectrum, cross])\n",
    "\n",
    "import plotly.graph_objects as go\n",
    "layout = dict(height=600, template=\"plotly_white\", xaxis_title=\"$\\ell$\", \n",
    "              legend=dict(orientation=\"h\", yanchor=\"bottom\", y=1.02, xanchor=\"right\", x=1),)"
   ]
  },
  {
   "cell_type": "code",
   "execution_count": 4,
   "metadata": {
    "jupyter": {
     "source_hidden": true
    },
    "scrolled": false,
    "slideshow": {
     "slide_type": "slide"
    }
   },
   "outputs": [
    {
     "data": {
      "application/vnd.jupyter.widget-view+json": {
       "model_id": "be7cb217b8ff436ab94cab15bad5b4f0",
       "version_major": 2,
       "version_minor": 0
      },
      "text/plain": [
       "VBox(children=(HBox(children=(RadioButtons(description='Show', options=('spectra', 'residuals'), value='spectr…"
      ]
     },
     "metadata": {},
     "output_type": "display_data"
    }
   ],
   "source": [
    "fig = go.FigureWidget(layout=layout)\n",
    "for s in seasons:\n",
    "    fig.add_scatter(name=s, mode = \"markers\")\n",
    "\n",
    "colors = [\"red\", \"green\", \"blue\"]\n",
    "spectra_file = os.path.join(data_dir, \"spectra.pkl\")\n",
    "residual_file = os.path.join(data_dir, \"residual.pkl\")\n",
    "spec_dict = pickle.load(open(spectra_file, \"rb\"))\n",
    "res_dict = pickle.load(open(residual_file, \"rb\"))\n",
    "\n",
    "def update(_):\n",
    "    spec = spectrum.value\n",
    "    combin = cross.value\n",
    "    pa1, pa2 = combin.split('x')\n",
    "    \n",
    "    fig.layout.title = \"{} - {}\".format(spec, combin)\n",
    "    fig.layout.xaxis.title = r\"$\\ell$\"\n",
    "    \n",
    "    if show.value == \"spectra\":\n",
    "        fig.layout.yaxis.title = r\"$D_\\ell^{\\mathrm{%s}}\\;[\\mu\\mathrm{K}^2]$\" % spec\n",
    "        fig.update_yaxes(type=\"log\" if spec == \"TT\" else \"linear\", autorange=True)\n",
    "    if show.value == \"residuals\":\n",
    "        if unit_residuals.value == \"raw\":\n",
    "            fig.layout.yaxis.title = r\"$D_\\ell^{\\mathrm{%s}, 18} - D_\\ell^{\\mathrm{%s}, 19}\\;[\\mu\\mathrm{K}^2]$\" % (\n",
    "                    spec, spec)\n",
    "            \n",
    "        elif unit_residuals.value == \"sigmas\":\n",
    "            fig.layout.yaxis.title = r\"$D_\\ell^{\\mathrm{%s}, 18} - D_\\ell^{\\mathrm{%s}, 19}\\;[\\sigma]$\" % (spec, spec)\n",
    "        fig.update_yaxes(type=\"linear\", autorange=True)\n",
    "    \n",
    "    if show.value == \"spectra\":\n",
    "        for i, season in enumerate(seasons):\n",
    "            with fig.batch_update():\n",
    "                current = fig.data[i]\n",
    "                current.mode = \"markers\"\n",
    "                current.x = spec_dict[spec, season, pa1, pa2][0]\n",
    "                current.y = spec_dict[spec, season, pa1, pa2][1]\n",
    "                current.error_y.array = spec_dict[spec, season, pa1, pa2][2]\n",
    "                current.marker.color = colors[i]\n",
    "                current.name = season\n",
    "        \n",
    "    elif show.value == \"residuals\":\n",
    "        for i, (season1, season2) in enumerate(combinations(seasons, 2)):\n",
    "    \n",
    "            if unit_residuals.value == \"raw\":\n",
    "                y = res_dict[spec, season1, season2, pa1, pa2][1]\n",
    "\n",
    "            elif unit_residuals.value == \"sigmas\":\n",
    "                y = res_dict[spec, season1, season2, pa1, pa2][1] / (\n",
    "                    res_dict[spec, season1, season2, pa1, pa2][2])\n",
    "\n",
    "                \n",
    "            with fig.batch_update():\n",
    "                current = fig.data[i]\n",
    "                if unit_residuals.value == \"sigmas\":\n",
    "                    current.mode = \"lines+markers\"\n",
    "                else: \n",
    "                    current.mode = \"markers\"\n",
    "                current.x = res_dict[spec, season1, season2, pa1, pa2][0]\n",
    "                current.y = y\n",
    "                current.line.color = colors[i]\n",
    "                current.marker.color = colors[i]\n",
    "                if unit_residuals.value == \"sigmas\":\n",
    "                    current.error_y.array = None\n",
    "                else:\n",
    "                    current.error_y.array = res_dict[spec, season1, season2, pa1, pa2][2]\n",
    "                current.name = \"%s - %s\" % (season1, season2)\n",
    "                \n",
    "update(None)\n",
    "\n",
    "show.observe(update, names=\"value\")\n",
    "unit_residuals.observe(update, names =\"value\")\n",
    "spectrum.observe(update, names=\"value\")\n",
    "cross.observe(update, names=\"value\")"
   ]
  }
 ],
 "metadata": {
  "kernelspec": {
   "display_name": "Python 3",
   "language": "python",
   "name": "python3"
  },
  "language_info": {
   "codemirror_mode": {
    "name": "ipython",
    "version": 3
   },
   "file_extension": ".py",
   "mimetype": "text/x-python",
   "name": "python",
   "nbconvert_exporter": "python",
   "pygments_lexer": "ipython3",
   "version": "3.8.5"
  },
  "org": null,
  "widgets": {
   "application/vnd.jupyter.widget-state+json": {
    "state": {
     "1e78d3c8a8e2434e8f06ac217271fbf3": {
      "model_module": "@jupyter-widgets/base",
      "model_module_version": "1.2.0",
      "model_name": "LayoutModel",
      "state": {}
     },
     "2893b637d53e4dd08c4ba40d93648903": {
      "model_module": "@jupyter-widgets/controls",
      "model_module_version": "1.5.0",
      "model_name": "HBoxModel",
      "state": {
       "children": [
        "IPY_MODEL_3c51dee492a84f34a70f1ae9377fbce3",
        "IPY_MODEL_515611c4c519432da7cc7506956ba139",
        "IPY_MODEL_2d1918d0122342fa9dac0cfdccf6ce67",
        "IPY_MODEL_e80caaf999ca4cb4a3639eab2b0b0c8c"
       ],
       "layout": "IPY_MODEL_97630ba51c2146e2a4f0a908c3b3432b"
      }
     },
     "2d1918d0122342fa9dac0cfdccf6ce67": {
      "model_module": "@jupyter-widgets/controls",
      "model_module_version": "1.5.0",
      "model_name": "DropdownModel",
      "state": {
       "_options_labels": [
        "TT",
        "TE",
        "ET",
        "EE"
       ],
       "index": 0,
       "layout": "IPY_MODEL_b854d807f14f4ca683a2ee6f8bb510e3",
       "style": "IPY_MODEL_eef3b47542a649f9b601f4ea94d94b64"
      }
     },
     "3c51dee492a84f34a70f1ae9377fbce3": {
      "model_module": "@jupyter-widgets/controls",
      "model_module_version": "1.5.0",
      "model_name": "RadioButtonsModel",
      "state": {
       "_options_labels": [
        "spectra",
        "residuals",
        "reduced X²"
       ],
       "description": "Show",
       "index": 0,
       "layout": "IPY_MODEL_1e78d3c8a8e2434e8f06ac217271fbf3",
       "style": "IPY_MODEL_9775cf5b3c134d52b059b28b61dd950a"
      }
     },
     "3e901b04055649b2a795963f1dae1f26": {
      "model_module": "@jupyter-widgets/controls",
      "model_module_version": "1.5.0",
      "model_name": "VBoxModel",
      "state": {
       "children": [
        "IPY_MODEL_2893b637d53e4dd08c4ba40d93648903",
        "IPY_MODEL_5d3faf2b255f4606841a26c064ce9261"
       ],
       "layout": "IPY_MODEL_a5c97a6b7996454a9e05c081d47e2f0d"
      }
     },
     "41fb08881a924da7add19e245f13713b": {
      "model_module": "@jupyter-widgets/controls",
      "model_module_version": "1.5.0",
      "model_name": "DescriptionStyleModel",
      "state": {
       "description_width": ""
      }
     },
     "515611c4c519432da7cc7506956ba139": {
      "model_module": "@jupyter-widgets/controls",
      "model_module_version": "1.5.0",
      "model_name": "RadioButtonsModel",
      "state": {
       "_options_labels": [
        "current",
        "previous"
       ],
       "description": "Version",
       "index": 0,
       "layout": "IPY_MODEL_e5347b7333e346cbb2a7836b2ec90cba",
       "style": "IPY_MODEL_b00067f7129e4687bb426266dc6a10df"
      }
     },
     "5d3faf2b255f4606841a26c064ce9261": {
      "buffers": [
       {
        "data": "1AKMJOiSa0A/bZD7Js9yQLbdb79t2JBAildvxtSIpUBxUg71uYalQL5pVN7/tZlAvltjmhTrkUCAqnjAnTuKQMNlzJtRw4RAiX7ljPzEgUDys82wBcF9QE91wdltWXlAt7BfAM36c0APVKPSh0JwQN5toczuSWxATC+leBiaaUAP9J/KAGpnQIu7WeE4nWRATICjWqFXYUBoYYyDrMNcQPRZ0CpyilhAxom4I7BTV0DvOwbY0ChWQJ851oRBXlVAGoyc8hFvU0C1lIsDlg5RQA1A47GUtk9AxTTZJI6rTkD2SYZByudNQN9UfSzQHU1AjLo4kTIkS0ChRVnheFpIQDq6Zatr30ZAfc6D/2uWRUDCMiQqvPtEQEpdV3jEekRArJFxcAPKQ0BW3FmgVatCQL7NO7YvbEFAp3So1EPdQECwQu516j9AQJ8C3g+h+zRApjZyRzEkM0BaP8ONxkgxQNXrrAWubDBAFwSOYPDmLkCVDUipMwAkQApvP1RAViJAqcPp0NJbIUCLleiAnmsYQGllN3AKuxpAUI+SBIlVH0C2Yt6L5jcjQOYNGStDuihAw74QuYn/L0CXCXw8WJ8zQJW1XhSWgThAe/1oXcW9OEDSOQ4wuMBDQA==",
        "encoding": "base64",
        "path": [
         "_data",
         0,
         "error_y",
         "array",
         "value"
        ]
       },
       {
        "data": "AAAAAAAANUAAAAAAAEBOQAAAAAAAwFlAAAAAAADQYkAAAAAAABBpQAAAAAAAUG9AAAAAAADIckAAAAAAAOh1QAAAAAAACHlAAAAAAAAofEAAAAAAAEh/QAAAAAAANIFAAAAAAADEgkAAAAAAAFSEQAAAAAAA5IVAAAAAAAB0h0AAAAAAAASJQAAAAAAAlIpAAAAAAAAkjEAAAAAAALSNQAAAAAAARI9AAAAAAABqkEAAAAAAADKRQAAAAAAA+pFAAAAAAADCkkAAAAAAAIqTQAAAAAAAUpRAAAAAAAAalUAAAAAAAOKVQAAAAAAAqpZAAAAAAAByl0AAAAAAADqYQAAAAAAAAplAAAAAAADKmUAAAAAAAJKaQAAAAAAAWptAAAAAAAAinEAAAAAAAOqcQAAAAAAAsp1AAAAAAAB6nkAAAAAAAEKfQAAAAAAAN6BAAAAAAAD/oEAAAAAAAMehQAAAAAAAj6JAAAAAAABXo0AAAAAAAIOkQAAAAAAAE6ZAAAAAAACjp0AAAAAAAPupQAAAAAAAG61AAAAAAIAdsEAAAAAAgK2xQAAAAACAPbNAAAAAAIDNtEAAAAAAgF22QAAAAACA7bdAAAAAAIBFukAAAAAAgGW9QA==",
        "encoding": "base64",
        "path": [
         "_data",
         0,
         "x",
         "value"
        ]
       },
       {
        "data": "0LXcCwfHNUB35Zx9CQVgQFFnjDfJuoVAr5BltjnkyECWjXacVqvEQFVNeAhgKbdA8c+DloMdrUBoay/k/RKqQJQkHT4E3L9AvwH7G17jn0DpKHRLkgqhQH0SdamAlJFASbOF9eyFo0AZQ0njHxWdQGCNf52ecJtAlCe5b1TunEAIQtMCarGjQJFbI2ni16RAuSKIpjfYm0BEV/eDA1iVQFwENm++sY9Ag+roNZxyjkDvaFci8eyTQJFZd2PemJNASdxdEJyjkEBdTwYbp5eJQA02cY/RgYVAjaMQB+Q1iEBMHhpOD9CHQKsu9UtB8YpADdN1HQH4g0BsCaom7viDQA+slnP+Dn5A1Cl8cleLfkCxPOG2m9l7QDCU6YsmOnpASW/gLTEqdUCBegzcBUhwQDS5H8VToHVAqVeQ9NDrZECznCFLslNzQKwZHMbQOW5ADFDaJlIPZECpapN+fYViQFuSlvu58WFAXJ5lwFx+U0Bz7YmZQDROQICRJPF1Fk1AdAvn8hOUQkBqTKfL4JpCQDRCYYHkv0FAC9G1sE7EP0DLTXWDW842QLcioXlTQzhAPZQcgAo1RECHkMYlitdIQL3/OhgGeFVACwxSA3DGCEDBLUzFO8BMQA==",
        "encoding": "base64",
        "path": [
         "_data",
         0,
         "y",
         "value"
        ]
       },
       {
        "data": "T/fukGLGYED724eZNWNxQCmvZ2MgbJFA1GzX0U+IoUCgFR8C1/WcQDAGnsCGAZVAKTFKhMoFjkAaqZSBZ9CGQAMz/TFJYYBAIXdt3JGjekDfbH3opkZ2QNDnPCCm1HFAE/CzTcnzbEAYftwP3XpoQNB9Y6h1ZGVABm9g5j5AZEAEjvbePspiQD6ifUOXuWBAsMPXDGn1WkAxyWCkeiFWQAgQBRynjFNA3dNKGp2hUUC1FJPs/UFQQHYl0r4AIE5ABFm7tWrES0CJDSPQ7r1IQFTMMFVO30ZABhWS9gb6RUCLW17NuZNFQICY8kGCZERAMqswK0M/Q0A6WtrcZu1BQGSAiYml0kBALWIQXQYbQED26j83AfE+QIKGTG7jAz5A1/X1PMiGPEAYXvAkHkg7QFxtEmqrNDpAo5SObZTbOEBREkAqhU44QIhkTpJtLDBAP1YJxIkWLkAgYvewjX0sQNBjCtbDWitA5AnJ4JFtKkDcLxIfat4hQO9VTBeASSFAG7CDKVIFIUBvGE+GxCEZQM26iz87ihxAC7uMYzgSIUBc3JSOpwslQOOGIHaJ9ipAZM8kS1tyMUCL13R8rI81QOj5+l1kBDtAcHs4Q45JO0BqsL2da8pFQA==",
        "encoding": "base64",
        "path": [
         "_data",
         1,
         "error_y",
         "array",
         "value"
        ]
       },
       {
        "data": "AAAAAAAANUAAAAAAAEBOQAAAAAAAwFlAAAAAAADQYkAAAAAAABBpQAAAAAAAUG9AAAAAAADIckAAAAAAAOh1QAAAAAAACHlAAAAAAAAofEAAAAAAAEh/QAAAAAAANIFAAAAAAADEgkAAAAAAAFSEQAAAAAAA5IVAAAAAAAB0h0AAAAAAAASJQAAAAAAAlIpAAAAAAAAkjEAAAAAAALSNQAAAAAAARI9AAAAAAABqkEAAAAAAADKRQAAAAAAA+pFAAAAAAADCkkAAAAAAAIqTQAAAAAAAUpRAAAAAAAAalUAAAAAAAOKVQAAAAAAAqpZAAAAAAAByl0AAAAAAADqYQAAAAAAAAplAAAAAAADKmUAAAAAAAJKaQAAAAAAAWptAAAAAAAAinEAAAAAAAOqcQAAAAAAAsp1AAAAAAAB6nkAAAAAAAEKfQAAAAAAAN6BAAAAAAAD/oEAAAAAAAMehQAAAAAAAj6JAAAAAAABXo0AAAAAAAIOkQAAAAAAAE6ZAAAAAAACjp0AAAAAAAPupQAAAAAAAG61AAAAAAIAdsEAAAAAAgK2xQAAAAACAPbNAAAAAAIDNtEAAAAAAgF22QAAAAACA7bdAAAAAAIBFukAAAAAAgGW9QA==",
        "encoding": "base64",
        "path": [
         "_data",
         1,
         "x",
         "value"
        ]
       },
       {
        "data": "9ZSBFEa3MECjkpIjBy6fQNX6WnicCotA8K4AvvHS5UBF6b2NpG3AQNEATBBYNtFAkeLX4Zs6s0D9/EJIDXa3QMCD64hT/q5AS7n8Q5eti0A5jRfbPzuiQMBpyEjAn6FAAOxm8JcKnkDZll/M54ieQHWpOY6CNZtAzUy+IMZln0D5cdNEQHOkQK3ccOtuDKFABUkuhFGwmUC77oZ36LiUQL1+TUI7moxAb0CZg7f1jUAYpDrppLiTQGUfNwEdjJJAh4f4PsbnjEAlN0m2XpyKQHXDA2Xd6odAI4ZByH0CiEDlUf74LduJQL+vUnztCohAw6qMG7ejhEDniEEsJqmBQPtsT2OK9H9AuMsrm/j7dkAQ0YNaF+97QIdJsA4Ypn1ApDZJFnQEekA/a4IRnepwQKybqSRKJ3BArJYq3SAxcECbtMtx0shxQJdyyYGLkGpAd7wSVrqyZEAqVMi3bIdhQC0tMsOeuGBAI37cqRRuU0CDz4wWC0xTQAiMhBjoiUhAKL3VJIX3TUC93MfFdVc/QOXqGEeQpURA1lDhGLPWQkAByDCadVdJQDEUyU6xyUNAgkbXQuBpQkAVKDheyxZJQOXPM95TXlRAsK5M7h5zV0AgiqKcvktgQA==",
        "encoding": "base64",
        "path": [
         "_data",
         1,
         "y",
         "value"
        ]
       },
       {
        "data": "rnP29k33akCbd1x7mbl+QIZs6BkjJ51AQYRBKf3oq0AoQPi7UqykQIsSTDf4xp1ACJpRKoEelkAHdtyxYuGQQE7ZpeCcFYhARzdrUAlngkBdUOFrDUJ7QJMtmagh23VAwxIqwlqPcUBwb3oqljFrQGVowWT4j2dAsFBafGs6ZUC6gpBa94xjQM3qPAkAO2FAod8krtmkXEBg/HLzAuRWQL2bfZMzNVNAOlXYslYgUkAg696H4rFRQHh3VFO3vFBAkjkkUow2TkCiriWyCMNKQJ33uHTT4EhAuNaMCzL9R0C4HL5crhVIQBq++5otR0dAmk+FmGN2RUDuQevsNDVDQJb1LLEfzUFAru1ULR/AQECnoHSF11lAQNRe844oMkBA84NAdVakPkCtmoa6VJo8QOU4IFo+JTtACMxjXp1pOUAzbwc+PGM4QNxzMNOL4y9AOSVaSE3fLEBRmINbyJoqQJ8iEyMmfilAcaCYZB48KEDmWfxXuSogQHTNGhmI+B5AKSxiLUh/HkBvp3iMBOAWQPxulhewlBpAdcWdS3UIIEAvFUb+PQMkQAbTY1qMvClAXCx0OaGtMEAGqi9kI9o0QCcGQnefDzpAADWKvhAsOkAjqRmErAxFQA==",
        "encoding": "base64",
        "path": [
         "_data",
         2,
         "error_y",
         "array",
         "value"
        ]
       },
       {
        "data": "AAAAAAAANUAAAAAAAEBOQAAAAAAAwFlAAAAAAADQYkAAAAAAABBpQAAAAAAAUG9AAAAAAADIckAAAAAAAOh1QAAAAAAACHlAAAAAAAAofEAAAAAAAEh/QAAAAAAANIFAAAAAAADEgkAAAAAAAFSEQAAAAAAA5IVAAAAAAAB0h0AAAAAAAASJQAAAAAAAlIpAAAAAAAAkjEAAAAAAALSNQAAAAAAARI9AAAAAAABqkEAAAAAAADKRQAAAAAAA+pFAAAAAAADCkkAAAAAAAIqTQAAAAAAAUpRAAAAAAAAalUAAAAAAAOKVQAAAAAAAqpZAAAAAAAByl0AAAAAAADqYQAAAAAAAAplAAAAAAADKmUAAAAAAAJKaQAAAAAAAWptAAAAAAAAinEAAAAAAAOqcQAAAAAAAsp1AAAAAAAB6nkAAAAAAAEKfQAAAAAAAN6BAAAAAAAD/oEAAAAAAAMehQAAAAAAAj6JAAAAAAABXo0AAAAAAAIOkQAAAAAAAE6ZAAAAAAACjp0AAAAAAAPupQAAAAAAAG61AAAAAAIAdsEAAAAAAgK2xQAAAAACAPbNAAAAAAIDNtEAAAAAAgF22QAAAAACA7bdAAAAAAIBFukAAAAAAgGW9QA==",
        "encoding": "base64",
        "path": [
         "_data",
         2,
         "x",
         "value"
        ]
       },
       {
        "data": "38IWZDB4cEBNWWJ3CX6RQIEcmjO8QrFA5TJbNFWr10AsJVGEDnK9QItK+OeNH9JAa8mxqNyZ1EBn8buI87/UQCk2WY3wvadADW3taGKcukAbksTzEDOnQD1OLCH+lKdAB0WwC2xWoUAZy6tuebKgQAEVynOrApVAY0w2+VYRn0C/rNZjmXWkQOzkC6W8laZA1T/68el7m0CI/vd4fseVQLJw+mALPJBAHTkk65OdkkDUMg8ObAqTQEP99iMD75JA/ay8NFrhkkAjGuPZAl6KQHOWdAP2KYhAQxsf9l/Mh0BJcSRajkSJQCGoaD6f44hAJzokDLU/iEC7lEod4+B/QP12ORu//3xAgImWUFSQe0CjfikDKZp8QNgyHBNqMnZAILB83MXtdkDwzo3D4GV1QHoUQZTvSXBA4J2YqoxhcEAxG8+UJjRwQOAPySaFa2xAyo8XmZwcZEBUi6WonldgQIPAcJNeV1tA14MTDdyLWkC6hPlonWVTQAHmj2ltl1FAoRWtu18WTUCXur54bDdDQIlZLtF7UkRADNP6q2fjOUB0dYGmlTA9QBh8oje3qTpAO43LcdykQ0CddQmx0to5QNxQZfISQ1RAg1b0/XdUTUBNXaf3c39oQA==",
        "encoding": "base64",
        "path": [
         "_data",
         2,
         "y",
         "value"
        ]
       },
       {
        "data": "NMsHCaMSakA3WTezWDBzQF3shpDRmJBAKrBaKx1voUCzwrMY/gCeQLRZQZzU6ZJAZtLy6AjvikA5Et0KSRSDQPdYn9+hUHxAgUBXqFZ9dkBbUCUuSQZ0QBDnm59vwHBARXoaoYl3a0AwC6UhiPFlQJmeSlXrbWNAzbXBhTeSYkAfBjyM4WRhQP2pLXxBP19ANMkMyaFcWkDT4mBd8/JUQEkfnIEfulFAF+d9j98HUUAjtOXE0LBQQBMagh0noE9A9Wu8qIUiTEBqAhkFjspIQJdKAZ+p6EZAC7jwVl1/RkDhkrP6gSlGQDoEGs29H0VApCnP2Hx8Q0AIrJ2qomJBQAKCEeNUxz9ATKuwniLEPUA1dNbw5vY8QElDRlJ8ijtAiTZL1r0nOkCKz0pWLLI4QC4GkdBltjZACjAb67HLNUCmCi0zZQg1QEg+lPxVFCtAZeduKeEzKEBACC3C4ewlQNjzddLOvyRAresk7RJ7I0ABaWeMr1MZQIHoC+3fnxdAZfh0dnoCF0CJYsq0FJUQQNcL1LvwtRJAUTHPfvRSFkCvfPLRn6QbQMSTxWZV3SFA8gfTaPUVJ0CWyYXhLmcsQKm9f7+5wzFAQnw+OUr6MUAtocGakKk8QA==",
        "encoding": "base64",
        "path": [
         "_data",
         3,
         "error_y",
         "array",
         "value"
        ]
       },
       {
        "data": "AAAAAAAANUAAAAAAAEBOQAAAAAAAwFlAAAAAAADQYkAAAAAAABBpQAAAAAAAUG9AAAAAAADIckAAAAAAAOh1QAAAAAAACHlAAAAAAAAofEAAAAAAAEh/QAAAAAAANIFAAAAAAADEgkAAAAAAAFSEQAAAAAAA5IVAAAAAAAB0h0AAAAAAAASJQAAAAAAAlIpAAAAAAAAkjEAAAAAAALSNQAAAAAAARI9AAAAAAABqkEAAAAAAADKRQAAAAAAA+pFAAAAAAADCkkAAAAAAAIqTQAAAAAAAUpRAAAAAAAAalUAAAAAAAOKVQAAAAAAAqpZAAAAAAAByl0AAAAAAADqYQAAAAAAAAplAAAAAAADKmUAAAAAAAJKaQAAAAAAAWptAAAAAAAAinEAAAAAAAOqcQAAAAAAAsp1AAAAAAAB6nkAAAAAAAEKfQAAAAAAAN6BAAAAAAAD/oEAAAAAAAMehQAAAAAAAj6JAAAAAAABXo0AAAAAAAIOkQAAAAAAAE6ZAAAAAAACjp0AAAAAAAPupQAAAAAAAG61AAAAAAIAdsEAAAAAAgK2xQAAAAACAPbNAAAAAAIDNtEAAAAAAgF22QAAAAACA7bdAAAAAAIBFukAAAAAAgGW9QA==",
        "encoding": "base64",
        "path": [
         "_data",
         3,
         "x",
         "value"
        ]
       },
       {
        "data": "wY8iQhBMQEA93kpBMs13QBtGoVjBEadAeoPZkMEVwkBh3K8d6k3YQLSIHjA067pA4DYBP5rvpUCNOla+IWmoQHVz3aMehZxAjdU+iuARnEAvMoZrAFaeQGaFv1IgZqJAZ8BXGB5QnUAP+4KtqiWdQHxps6tSnp5ALoM4UJoqoEAfKFIFQY6hQHCf2RHsL6NA2OuKt77bm0CRGXMVUhyVQFNLet2i8ZNAbBgtg7uQj0A4OAniqFSRQNx7/GWW6ZFA2yKUqc+ikEAbhizw6KqJQFQYKqMJRIZAOIyJ/APJhkB32hHxrHKHQONErg9/s4pAdEBCABq/hUBY37LjHkKDQPH/MSTtWXlAY177k8KpfECcs9RfdhB5QPfDx9LRpHlA593QN3u4e0BpwVHmK39wQN7ZN9pJE3BAoOSBQ9ZSbEC7f8Z0g/pxQJ2HnbPayW9A2CqbB0Y1ZkBr0B7A0q9gQA9rcB9UgV9AXSPm34e/V0A5uvKRAbhVQLUx9CxuG1JA0eOlWqAIQUCOdxp/KT9BQLsH1UGLyEJAFl+WA4LkQEBIlOJ4KoFCQGe2jGjbITlA+whrBx5lOUCTrJZ0H+QnQPx+esTuM0NA75RgaMfAUEArjuOmrK5IQA==",
        "encoding": "base64",
        "path": [
         "_data",
         3,
         "y",
         "value"
        ]
       },
       {
        "data": "AAAAAADodUAAAAAAAAh5QAAAAAAAKHxAAAAAAABIf0AAAAAAADSBQAAAAAAAxIJAAAAAAABUhEAAAAAAAOSFQAAAAAAAdIdAAAAAAAAEiUAAAAAAAJSKQAAAAAAAJIxAAAAAAAC0jUAAAAAAAESPQAAAAAAAapBAAAAAAAAykUAAAAAAAPqRQAAAAAAAwpJAAAAAAACKk0AAAAAAAFKUQAAAAAAAGpVAAAAAAADilUAAAAAAAKqWQAAAAAAAcpdAAAAAAAA6mEAAAAAAAAKZQAAAAAAAyplAAAAAAACSmkAAAAAAAFqbQAAAAAAAIpxAAAAAAADqnEAAAAAAALKdQAAAAAAAep5AAAAAAABCn0AAAAAAADegQAAAAAAA/6BAAAAAAADHoUAAAAAAAI+iQAAAAAAAV6NAAAAAAACDpEAAAAAAABOmQAAAAAAAo6dAAAAAAAD7qUAAAAAAAButQAAAAACAHbBAAAAAAICtsUAAAAAAgD2zQAAAAACAzbRAAAAAAIBdtkAAAAAAgO23QAAAAACARbpAAAAAAIBlvUA=",
        "encoding": "base64",
        "path": [
         "_data",
         4,
         "x",
         "value"
        ]
       },
       {
        "data": "FDs+Ae9Vn0DuQWGUcniWQLwL3a1DP6BAFVkdQU4Dn0CscFmjml6iQC8NpDkcg6NA6Z1ODpD5nUDxWXJfKKicQF0NHKNcQaJAsthbyrSmpEBfgMl12YSiQHc40cJlZJ9AGYUcT1FslUCKQ6POgAaNQDacYez7vZBAjChSXbbkk0D1jbBlxVaTQHz1jSQaiY1ARi1kN9x9i0CXhgxJF8qFQAmgOC4S/YhAenP0OTIoi0BFegfl422IQDn9VKYquoZABqjsY/r+fUATzRBDiOh+QDwcOWpEv3lALejgJAD1d0DR9/quo495QEXKEpuLmnhACiR+UOpdc0BszEOhGp5xQK5mfnCR5nBAqyQM0XUib0D0qOkd5o9uQIc8jvSRe2VAutPTM/wnYUCAOtFdi0tfQGfzALYC71pAp1rHjwgoVEA9BeZ+aUtOQGmAANs4LUdA0CbryQqAQkDs2XGwEb0/QGqa4qMKSUBAuNlS7LASQkCumW+GuL1EQN8xf7r2SUdANYTDidmXSECJuRGsCnNMQJzZ5kUUL1BAm2ZN4bypVEA=",
        "encoding": "base64",
        "path": [
         "_data",
         4,
         "y",
         "value"
        ]
       }
      ],
      "model_module": "plotlywidget",
      "model_module_version": "^4.11.0",
      "model_name": "FigureModel",
      "state": {
       "_config": {
        "plotlyServerURL": "https://plot.ly"
       },
       "_data": [
        {
         "error_y": {
          "array": {
           "dtype": "float64",
           "shape": [
            59
           ],
           "value": {}
          }
         },
         "mode": "markers",
         "name": "patch 0",
         "type": "scatter",
         "uid": "6976a91c-8a16-4681-9ee9-f134655045e3",
         "x": {
          "dtype": "float64",
          "shape": [
           59
          ],
          "value": {}
         },
         "y": {
          "dtype": "float64",
          "shape": [
           59
          ],
          "value": {}
         }
        },
        {
         "error_y": {
          "array": {
           "dtype": "float64",
           "shape": [
            59
           ],
           "value": {}
          }
         },
         "mode": "markers",
         "name": "patch 1",
         "type": "scatter",
         "uid": "6f534209-a827-4b26-810e-a07f979b3299",
         "x": {
          "dtype": "float64",
          "shape": [
           59
          ],
          "value": {}
         },
         "y": {
          "dtype": "float64",
          "shape": [
           59
          ],
          "value": {}
         }
        },
        {
         "error_y": {
          "array": {
           "dtype": "float64",
           "shape": [
            59
           ],
           "value": {}
          }
         },
         "mode": "markers",
         "name": "patch 2",
         "type": "scatter",
         "uid": "1ef0b90c-771c-4409-932d-2b5f0d5fddcb",
         "x": {
          "dtype": "float64",
          "shape": [
           59
          ],
          "value": {}
         },
         "y": {
          "dtype": "float64",
          "shape": [
           59
          ],
          "value": {}
         }
        },
        {
         "error_y": {
          "array": {
           "dtype": "float64",
           "shape": [
            59
           ],
           "value": {}
          }
         },
         "mode": "markers",
         "name": "patch 3",
         "type": "scatter",
         "uid": "76d44a46-89b8-490c-b358-b211410f5a8a",
         "x": {
          "dtype": "float64",
          "shape": [
           59
          ],
          "value": {}
         },
         "y": {
          "dtype": "float64",
          "shape": [
           59
          ],
          "value": {}
         }
        },
        {
         "line": {
          "color": "gray"
         },
         "mode": "lines",
         "name": "Choi et al.",
         "type": "scatter",
         "uid": "4a0abdb5-1475-4c2d-88da-7e8edaece7ed",
         "visible": true,
         "x": {
          "dtype": "float64",
          "shape": [
           52
          ],
          "value": {}
         },
         "y": {
          "dtype": "float64",
          "shape": [
           52
          ],
          "value": {}
         }
        }
       ],
       "_js2py_relayout": {},
       "_js2py_restyle": {},
       "_js2py_update": {},
       "_last_layout_edit_id": 13,
       "_last_trace_edit_id": 11,
       "_layout": {
        "height": 600,
        "legend": {
         "orientation": "h",
         "x": 1,
         "xanchor": "right",
         "y": 1.02,
         "yanchor": "bottom"
        },
        "template": {
         "data": {
          "bar": [
           {
            "error_x": {
             "color": "#2a3f5f"
            },
            "error_y": {
             "color": "#2a3f5f"
            },
            "marker": {
             "line": {
              "color": "white",
              "width": 0.5
             }
            },
            "type": "bar"
           }
          ],
          "barpolar": [
           {
            "marker": {
             "line": {
              "color": "white",
              "width": 0.5
             }
            },
            "type": "barpolar"
           }
          ],
          "carpet": [
           {
            "aaxis": {
             "endlinecolor": "#2a3f5f",
             "gridcolor": "#C8D4E3",
             "linecolor": "#C8D4E3",
             "minorgridcolor": "#C8D4E3",
             "startlinecolor": "#2a3f5f"
            },
            "baxis": {
             "endlinecolor": "#2a3f5f",
             "gridcolor": "#C8D4E3",
             "linecolor": "#C8D4E3",
             "minorgridcolor": "#C8D4E3",
             "startlinecolor": "#2a3f5f"
            },
            "type": "carpet"
           }
          ],
          "choropleth": [
           {
            "colorbar": {
             "outlinewidth": 0,
             "ticks": ""
            },
            "type": "choropleth"
           }
          ],
          "contour": [
           {
            "colorbar": {
             "outlinewidth": 0,
             "ticks": ""
            },
            "colorscale": [
             [
              0,
              "#0d0887"
             ],
             [
              0.1111111111111111,
              "#46039f"
             ],
             [
              0.2222222222222222,
              "#7201a8"
             ],
             [
              0.3333333333333333,
              "#9c179e"
             ],
             [
              0.4444444444444444,
              "#bd3786"
             ],
             [
              0.5555555555555556,
              "#d8576b"
             ],
             [
              0.6666666666666666,
              "#ed7953"
             ],
             [
              0.7777777777777778,
              "#fb9f3a"
             ],
             [
              0.8888888888888888,
              "#fdca26"
             ],
             [
              1,
              "#f0f921"
             ]
            ],
            "type": "contour"
           }
          ],
          "contourcarpet": [
           {
            "colorbar": {
             "outlinewidth": 0,
             "ticks": ""
            },
            "type": "contourcarpet"
           }
          ],
          "heatmap": [
           {
            "colorbar": {
             "outlinewidth": 0,
             "ticks": ""
            },
            "colorscale": [
             [
              0,
              "#0d0887"
             ],
             [
              0.1111111111111111,
              "#46039f"
             ],
             [
              0.2222222222222222,
              "#7201a8"
             ],
             [
              0.3333333333333333,
              "#9c179e"
             ],
             [
              0.4444444444444444,
              "#bd3786"
             ],
             [
              0.5555555555555556,
              "#d8576b"
             ],
             [
              0.6666666666666666,
              "#ed7953"
             ],
             [
              0.7777777777777778,
              "#fb9f3a"
             ],
             [
              0.8888888888888888,
              "#fdca26"
             ],
             [
              1,
              "#f0f921"
             ]
            ],
            "type": "heatmap"
           }
          ],
          "heatmapgl": [
           {
            "colorbar": {
             "outlinewidth": 0,
             "ticks": ""
            },
            "colorscale": [
             [
              0,
              "#0d0887"
             ],
             [
              0.1111111111111111,
              "#46039f"
             ],
             [
              0.2222222222222222,
              "#7201a8"
             ],
             [
              0.3333333333333333,
              "#9c179e"
             ],
             [
              0.4444444444444444,
              "#bd3786"
             ],
             [
              0.5555555555555556,
              "#d8576b"
             ],
             [
              0.6666666666666666,
              "#ed7953"
             ],
             [
              0.7777777777777778,
              "#fb9f3a"
             ],
             [
              0.8888888888888888,
              "#fdca26"
             ],
             [
              1,
              "#f0f921"
             ]
            ],
            "type": "heatmapgl"
           }
          ],
          "histogram": [
           {
            "marker": {
             "colorbar": {
              "outlinewidth": 0,
              "ticks": ""
             }
            },
            "type": "histogram"
           }
          ],
          "histogram2d": [
           {
            "colorbar": {
             "outlinewidth": 0,
             "ticks": ""
            },
            "colorscale": [
             [
              0,
              "#0d0887"
             ],
             [
              0.1111111111111111,
              "#46039f"
             ],
             [
              0.2222222222222222,
              "#7201a8"
             ],
             [
              0.3333333333333333,
              "#9c179e"
             ],
             [
              0.4444444444444444,
              "#bd3786"
             ],
             [
              0.5555555555555556,
              "#d8576b"
             ],
             [
              0.6666666666666666,
              "#ed7953"
             ],
             [
              0.7777777777777778,
              "#fb9f3a"
             ],
             [
              0.8888888888888888,
              "#fdca26"
             ],
             [
              1,
              "#f0f921"
             ]
            ],
            "type": "histogram2d"
           }
          ],
          "histogram2dcontour": [
           {
            "colorbar": {
             "outlinewidth": 0,
             "ticks": ""
            },
            "colorscale": [
             [
              0,
              "#0d0887"
             ],
             [
              0.1111111111111111,
              "#46039f"
             ],
             [
              0.2222222222222222,
              "#7201a8"
             ],
             [
              0.3333333333333333,
              "#9c179e"
             ],
             [
              0.4444444444444444,
              "#bd3786"
             ],
             [
              0.5555555555555556,
              "#d8576b"
             ],
             [
              0.6666666666666666,
              "#ed7953"
             ],
             [
              0.7777777777777778,
              "#fb9f3a"
             ],
             [
              0.8888888888888888,
              "#fdca26"
             ],
             [
              1,
              "#f0f921"
             ]
            ],
            "type": "histogram2dcontour"
           }
          ],
          "mesh3d": [
           {
            "colorbar": {
             "outlinewidth": 0,
             "ticks": ""
            },
            "type": "mesh3d"
           }
          ],
          "parcoords": [
           {
            "line": {
             "colorbar": {
              "outlinewidth": 0,
              "ticks": ""
             }
            },
            "type": "parcoords"
           }
          ],
          "pie": [
           {
            "automargin": true,
            "type": "pie"
           }
          ],
          "scatter": [
           {
            "marker": {
             "colorbar": {
              "outlinewidth": 0,
              "ticks": ""
             }
            },
            "type": "scatter"
           }
          ],
          "scatter3d": [
           {
            "line": {
             "colorbar": {
              "outlinewidth": 0,
              "ticks": ""
             }
            },
            "marker": {
             "colorbar": {
              "outlinewidth": 0,
              "ticks": ""
             }
            },
            "type": "scatter3d"
           }
          ],
          "scattercarpet": [
           {
            "marker": {
             "colorbar": {
              "outlinewidth": 0,
              "ticks": ""
             }
            },
            "type": "scattercarpet"
           }
          ],
          "scattergeo": [
           {
            "marker": {
             "colorbar": {
              "outlinewidth": 0,
              "ticks": ""
             }
            },
            "type": "scattergeo"
           }
          ],
          "scattergl": [
           {
            "marker": {
             "colorbar": {
              "outlinewidth": 0,
              "ticks": ""
             }
            },
            "type": "scattergl"
           }
          ],
          "scattermapbox": [
           {
            "marker": {
             "colorbar": {
              "outlinewidth": 0,
              "ticks": ""
             }
            },
            "type": "scattermapbox"
           }
          ],
          "scatterpolar": [
           {
            "marker": {
             "colorbar": {
              "outlinewidth": 0,
              "ticks": ""
             }
            },
            "type": "scatterpolar"
           }
          ],
          "scatterpolargl": [
           {
            "marker": {
             "colorbar": {
              "outlinewidth": 0,
              "ticks": ""
             }
            },
            "type": "scatterpolargl"
           }
          ],
          "scatterternary": [
           {
            "marker": {
             "colorbar": {
              "outlinewidth": 0,
              "ticks": ""
             }
            },
            "type": "scatterternary"
           }
          ],
          "surface": [
           {
            "colorbar": {
             "outlinewidth": 0,
             "ticks": ""
            },
            "colorscale": [
             [
              0,
              "#0d0887"
             ],
             [
              0.1111111111111111,
              "#46039f"
             ],
             [
              0.2222222222222222,
              "#7201a8"
             ],
             [
              0.3333333333333333,
              "#9c179e"
             ],
             [
              0.4444444444444444,
              "#bd3786"
             ],
             [
              0.5555555555555556,
              "#d8576b"
             ],
             [
              0.6666666666666666,
              "#ed7953"
             ],
             [
              0.7777777777777778,
              "#fb9f3a"
             ],
             [
              0.8888888888888888,
              "#fdca26"
             ],
             [
              1,
              "#f0f921"
             ]
            ],
            "type": "surface"
           }
          ],
          "table": [
           {
            "cells": {
             "fill": {
              "color": "#EBF0F8"
             },
             "line": {
              "color": "white"
             }
            },
            "header": {
             "fill": {
              "color": "#C8D4E3"
             },
             "line": {
              "color": "white"
             }
            },
            "type": "table"
           }
          ]
         },
         "layout": {
          "annotationdefaults": {
           "arrowcolor": "#2a3f5f",
           "arrowhead": 0,
           "arrowwidth": 1
          },
          "coloraxis": {
           "colorbar": {
            "outlinewidth": 0,
            "ticks": ""
           }
          },
          "colorscale": {
           "diverging": [
            [
             0,
             "#8e0152"
            ],
            [
             0.1,
             "#c51b7d"
            ],
            [
             0.2,
             "#de77ae"
            ],
            [
             0.3,
             "#f1b6da"
            ],
            [
             0.4,
             "#fde0ef"
            ],
            [
             0.5,
             "#f7f7f7"
            ],
            [
             0.6,
             "#e6f5d0"
            ],
            [
             0.7,
             "#b8e186"
            ],
            [
             0.8,
             "#7fbc41"
            ],
            [
             0.9,
             "#4d9221"
            ],
            [
             1,
             "#276419"
            ]
           ],
           "sequential": [
            [
             0,
             "#0d0887"
            ],
            [
             0.1111111111111111,
             "#46039f"
            ],
            [
             0.2222222222222222,
             "#7201a8"
            ],
            [
             0.3333333333333333,
             "#9c179e"
            ],
            [
             0.4444444444444444,
             "#bd3786"
            ],
            [
             0.5555555555555556,
             "#d8576b"
            ],
            [
             0.6666666666666666,
             "#ed7953"
            ],
            [
             0.7777777777777778,
             "#fb9f3a"
            ],
            [
             0.8888888888888888,
             "#fdca26"
            ],
            [
             1,
             "#f0f921"
            ]
           ],
           "sequentialminus": [
            [
             0,
             "#0d0887"
            ],
            [
             0.1111111111111111,
             "#46039f"
            ],
            [
             0.2222222222222222,
             "#7201a8"
            ],
            [
             0.3333333333333333,
             "#9c179e"
            ],
            [
             0.4444444444444444,
             "#bd3786"
            ],
            [
             0.5555555555555556,
             "#d8576b"
            ],
            [
             0.6666666666666666,
             "#ed7953"
            ],
            [
             0.7777777777777778,
             "#fb9f3a"
            ],
            [
             0.8888888888888888,
             "#fdca26"
            ],
            [
             1,
             "#f0f921"
            ]
           ]
          },
          "colorway": [
           "#636efa",
           "#EF553B",
           "#00cc96",
           "#ab63fa",
           "#FFA15A",
           "#19d3f3",
           "#FF6692",
           "#B6E880",
           "#FF97FF",
           "#FECB52"
          ],
          "font": {
           "color": "#2a3f5f"
          },
          "geo": {
           "bgcolor": "white",
           "lakecolor": "white",
           "landcolor": "white",
           "showlakes": true,
           "showland": true,
           "subunitcolor": "#C8D4E3"
          },
          "hoverlabel": {
           "align": "left"
          },
          "hovermode": "closest",
          "mapbox": {
           "style": "light"
          },
          "paper_bgcolor": "white",
          "plot_bgcolor": "white",
          "polar": {
           "angularaxis": {
            "gridcolor": "#EBF0F8",
            "linecolor": "#EBF0F8",
            "ticks": ""
           },
           "bgcolor": "white",
           "radialaxis": {
            "gridcolor": "#EBF0F8",
            "linecolor": "#EBF0F8",
            "ticks": ""
           }
          },
          "scene": {
           "xaxis": {
            "backgroundcolor": "white",
            "gridcolor": "#DFE8F3",
            "gridwidth": 2,
            "linecolor": "#EBF0F8",
            "showbackground": true,
            "ticks": "",
            "zerolinecolor": "#EBF0F8"
           },
           "yaxis": {
            "backgroundcolor": "white",
            "gridcolor": "#DFE8F3",
            "gridwidth": 2,
            "linecolor": "#EBF0F8",
            "showbackground": true,
            "ticks": "",
            "zerolinecolor": "#EBF0F8"
           },
           "zaxis": {
            "backgroundcolor": "white",
            "gridcolor": "#DFE8F3",
            "gridwidth": 2,
            "linecolor": "#EBF0F8",
            "showbackground": true,
            "ticks": "",
            "zerolinecolor": "#EBF0F8"
           }
          },
          "shapedefaults": {
           "line": {
            "color": "#2a3f5f"
           }
          },
          "ternary": {
           "aaxis": {
            "gridcolor": "#DFE8F3",
            "linecolor": "#A2B1C6",
            "ticks": ""
           },
           "baxis": {
            "gridcolor": "#DFE8F3",
            "linecolor": "#A2B1C6",
            "ticks": ""
           },
           "bgcolor": "white",
           "caxis": {
            "gridcolor": "#DFE8F3",
            "linecolor": "#A2B1C6",
            "ticks": ""
           }
          },
          "title": {
           "x": 0.05
          },
          "xaxis": {
           "automargin": true,
           "gridcolor": "#EBF0F8",
           "linecolor": "#EBF0F8",
           "ticks": "",
           "title": {
            "standoff": 15
           },
           "zerolinecolor": "#EBF0F8",
           "zerolinewidth": 2
          },
          "yaxis": {
           "automargin": true,
           "gridcolor": "#EBF0F8",
           "linecolor": "#EBF0F8",
           "ticks": "",
           "title": {
            "standoff": 15
           },
           "zerolinecolor": "#EBF0F8",
           "zerolinewidth": 2
          }
         }
        },
        "title": {
         "text": "TT - s19_pa4_f150xs19_pa4_f150"
        },
        "xaxis": {
         "title": {
          "text": "$\\ell$"
         }
        },
        "yaxis": {
         "autorange": true,
         "title": {
          "text": "$D_\\ell^\\mathrm{TT}\\;[\\mu\\mathrm{K}^2]$"
         },
         "type": "log"
        }
       },
       "_py2js_animate": {},
       "_py2js_deleteTraces": {},
       "_py2js_moveTraces": {},
       "_py2js_removeLayoutProps": {},
       "_py2js_removeTraceProps": {},
       "_view_count": 1
      }
     },
     "730fccaf58724c8488263b09b591ee15": {
      "model_module": "@jupyter-widgets/controls",
      "model_module_version": "1.5.0",
      "model_name": "RadioButtonsModel",
      "state": {
       "_options_labels": [
        "cross",
        "auto"
       ],
       "index": 0,
       "layout": "IPY_MODEL_cba882f2726546d796e1a4354699eeb5",
       "style": "IPY_MODEL_41fb08881a924da7add19e245f13713b"
      }
     },
     "97630ba51c2146e2a4f0a908c3b3432b": {
      "model_module": "@jupyter-widgets/base",
      "model_module_version": "1.2.0",
      "model_name": "LayoutModel",
      "state": {}
     },
     "9775cf5b3c134d52b059b28b61dd950a": {
      "model_module": "@jupyter-widgets/controls",
      "model_module_version": "1.5.0",
      "model_name": "DescriptionStyleModel",
      "state": {
       "description_width": ""
      }
     },
     "a5c97a6b7996454a9e05c081d47e2f0d": {
      "model_module": "@jupyter-widgets/base",
      "model_module_version": "1.2.0",
      "model_name": "LayoutModel",
      "state": {}
     },
     "b00067f7129e4687bb426266dc6a10df": {
      "model_module": "@jupyter-widgets/controls",
      "model_module_version": "1.5.0",
      "model_name": "DescriptionStyleModel",
      "state": {
       "description_width": ""
      }
     },
     "b854d807f14f4ca683a2ee6f8bb510e3": {
      "model_module": "@jupyter-widgets/base",
      "model_module_version": "1.2.0",
      "model_name": "LayoutModel",
      "state": {}
     },
     "c0db1d3b5d5d40febe22989e8d810c17": {
      "model_module": "@jupyter-widgets/controls",
      "model_module_version": "1.5.0",
      "model_name": "DescriptionStyleModel",
      "state": {
       "description_width": ""
      }
     },
     "cba882f2726546d796e1a4354699eeb5": {
      "model_module": "@jupyter-widgets/base",
      "model_module_version": "1.2.0",
      "model_name": "LayoutModel",
      "state": {}
     },
     "dfc91879183c40fa9613d3950c6363a0": {
      "model_module": "@jupyter-widgets/base",
      "model_module_version": "1.2.0",
      "model_name": "LayoutModel",
      "state": {}
     },
     "e5347b7333e346cbb2a7836b2ec90cba": {
      "model_module": "@jupyter-widgets/base",
      "model_module_version": "1.2.0",
      "model_name": "LayoutModel",
      "state": {}
     },
     "e80caaf999ca4cb4a3639eab2b0b0c8c": {
      "model_module": "@jupyter-widgets/controls",
      "model_module_version": "1.5.0",
      "model_name": "DropdownModel",
      "state": {
       "_options_labels": [
        "s19_pa4_f150xs19_pa4_f150",
        "s19_pa4_f150xs19_pa4_f220",
        "s19_pa4_f150xs19_pa5_f090",
        "s19_pa4_f150xs19_pa5_f150",
        "s19_pa4_f150xs19_pa6_f090",
        "s19_pa4_f150xs19_pa6_f150",
        "s19_pa4_f220xs19_pa4_f220",
        "s19_pa4_f220xs19_pa5_f090",
        "s19_pa4_f220xs19_pa5_f150",
        "s19_pa4_f220xs19_pa6_f090",
        "s19_pa4_f220xs19_pa6_f150",
        "s19_pa5_f090xs19_pa5_f090",
        "s19_pa5_f090xs19_pa5_f150",
        "s19_pa5_f090xs19_pa6_f090",
        "s19_pa5_f090xs19_pa6_f150",
        "s19_pa5_f150xs19_pa5_f150",
        "s19_pa5_f150xs19_pa6_f090",
        "s19_pa5_f150xs19_pa6_f150",
        "s19_pa6_f090xs19_pa6_f090",
        "s19_pa6_f090xs19_pa6_f150",
        "s19_pa6_f150xs19_pa6_f150"
       ],
       "index": 0,
       "layout": "IPY_MODEL_dfc91879183c40fa9613d3950c6363a0",
       "style": "IPY_MODEL_c0db1d3b5d5d40febe22989e8d810c17"
      }
     },
     "eef3b47542a649f9b601f4ea94d94b64": {
      "model_module": "@jupyter-widgets/controls",
      "model_module_version": "1.5.0",
      "model_name": "DescriptionStyleModel",
      "state": {
       "description_width": ""
      }
     }
    },
    "version_major": 2,
    "version_minor": 0
   }
  }
 },
 "nbformat": 4,
 "nbformat_minor": 4
}
